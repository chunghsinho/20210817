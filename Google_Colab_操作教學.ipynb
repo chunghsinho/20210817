{
  "nbformat": 4,
  "nbformat_minor": 0,
  "metadata": {
    "colab": {
      "name": "Google Colab 操作教學",
      "provenance": [],
      "toc_visible": true,
      "authorship_tag": "ABX9TyPT+uqpFyWPooZ/6oZ5d02d",
      "include_colab_link": true
    },
    "kernelspec": {
      "name": "python3",
      "display_name": "Python 3"
    },
    "language_info": {
      "name": "python"
    }
  },
  "cells": [
    {
      "cell_type": "markdown",
      "metadata": {
        "id": "view-in-github",
        "colab_type": "text"
      },
      "source": [
        "<a href=\"https://colab.research.google.com/github/edreamer/20210817/blob/main/Google_Colab_%E6%93%8D%E4%BD%9C%E6%95%99%E5%AD%B8.ipynb\" target=\"_parent\"><img src=\"https://colab.research.google.com/assets/colab-badge.svg\" alt=\"Open In Colab\"/></a>"
      ]
    },
    {
      "cell_type": "markdown",
      "metadata": {
        "id": "EN2JSevH1W1N"
      },
      "source": [
        "# 一、Colab新增/開啟檔案\n",
        "\n",
        "請由 https://colab.research.google.com/ 進入 Google Colab，即可看到以下開啟或新增檔案的方法：**範例、最近、雲端硬碟、GitHub、上傳**。\n",
        "\n",
        "若是新增或開啟檔案後，可由功能表**檔案**找到以下新增/開啟檔案的方法：\n",
        "\n",
        "1. 新增筆記本:新增一空白筆記本\n",
        "2. 開啟筆記本:可開啟 **範例**、**最近**、**雲端硬碟**、**GitHub**、**上傳**\n",
        "3. 上傳筆記本:上傳本機筆記本檔案\n",
        "\n",
        "**【注意事項】**  \n",
        "1. 在Google服務中啟用Google Colab服務後，即會在本機產生**Colab Notebooks**資料夾，也是預設儲存資料夾。\n",
        "2. 若是由 **範例、GitHub** 開啟的檔案，一般都是開啟他人原有作品，並無法直接執行，要按**複製到雲端硬碟**成為複本後才能編輯並進行測試執行。\n"
      ]
    },
    {
      "cell_type": "markdown",
      "metadata": {
        "id": "MikvrQPG5523"
      },
      "source": [
        "# 二、設定Colab筆記本\n",
        "\n",
        "Colab的檔案是以筆記本(Notebook)的型式存在，其中可以加入**程式碼**及**文字**儲存格。\n",
        "* **程式碼**：加入Python程式碼，可以即時編輯及執行並顯示結果。\n",
        "* **文字**：加入說明文字，可利用**Markdown**語法編輯。\n",
        "\n",
        "重要操作：\n",
        "1. **設定GPU、TPU**：編輯>筆記本\n",
        "2. **連線虛擬主機**：連線方式最方便的方法即是執行筆記本中的程式。Colab筆記本在執行測試程式時，是在雲端新增一台虛擬主機，其運行沒有手動中斷，壽命約為24小時。若是手動重啟或是操作逾時，主機會重置，運行或儲存在其中的資料會清空，成為一台新主機。\n",
        "    * 重新執行主機：**執行階段>重新啟動執行階段**。\n",
        "    * 新置主機：**執行階段>管理工作階段** 再中止目前的主機運行。\n",
        "\n",
        "\n"
      ]
    },
    {
      "cell_type": "markdown",
      "metadata": {
        "id": "6uSJS32D-24A"
      },
      "source": [
        "# 三、側邊欄功能視窗\n",
        "功能視窗有以下功能：目錄、搜尋、程式碼片段、檔案\n",
        "1. **目錄**：筆記本建立區段後，自動將標題文字設定為文件目錄，方便使用者查閱。\n",
        "2. **搜尋**：搜尋、取代功能。\n",
        "3. **程式碼片段**：可找到許多有用的程式碼片段匯入使用。\n",
        "4. **檔案**：可管理虛擬主機中的資料，也可掛接雲端硬碟資料進行使用。\n",
        "    1. 虛擬主機根目錄在 /content。\n",
        "    2. 根目錄裡預設有 /content/sample_data，其中為一些範例資料夾。\n",
        "    3. 程式中的檔案運作預設都在這個根目錄中。\n",
        "    4. 掛接雲端硬碟後會出現 /content/drive 資料夾，開啟後即可存取雲端硬碟中的檔案。\n",
        "    5. 可以使用上傳功能或直接將檔案拖曳到窗格中，即可進行上傳的動作。\n",
        "    6. 因為虛擬主機的運作有壽命期間，儲存在此的資料若有需要請再備份到雲端硬碟或是下載到本機中。"
      ]
    },
    {
      "cell_type": "markdown",
      "metadata": {
        "id": "mruQavofQc4y"
      },
      "source": [
        "# 四、儲存格編輯\n",
        "\n",
        "1. 執行目前儲存格 `(Ctrl + Enger)`\n",
        "2. 執行目前儲存格後再新增一個儲存格並前往 `(Alt + Enter)`\n",
        "3. 執行目前儲存格後前往下一個儲存格 `(Shift + Enter)`\n",
        "4. 加入註譯 # 符號 `(Ctrl + /)`\n",
        "5. jupyter Notebook的快速鍵大部份都能在Colab上使用，但要先加上 `Ctrl + M`鍵。\n",
        "    * 新增儲存格在上 `Ctrl + M + A` 或 `A`\n",
        "    * 新增儲存格在下 `Ctrl + M + B` 或 `B`\n",
        "    * 刪除儲存格 `Ctrl + M + D`\n",
        "    * 切換到程式碼模式 `Ctrl + M + Y`\n",
        "    * 切換到文字模式 `Ctrl + M + M`"
      ]
    },
    {
      "cell_type": "markdown",
      "metadata": {
        "id": "hrTU_EUhS9y9"
      },
      "source": [
        "# 五、bash shell 指令 !"
      ]
    },
    {
      "cell_type": "markdown",
      "metadata": {
        "id": "xQLcnJyCOGK1"
      },
      "source": [
        "## 檔案管理相關"
      ]
    },
    {
      "cell_type": "code",
      "metadata": {
        "id": "2kzT66baTDri"
      },
      "source": [
        "# 檢視目前路徑\n",
        "# !pwd\n",
        "\n",
        "# 檢視目前路徑下的目錄及檔案\n",
        "# !ls\n",
        "\n",
        "# 檢視檔案內容 (-n顯示行號)\n",
        "# !cat -n /content/sample_data/anscombe.json\n",
        "\n",
        "# 建立目錄\n",
        "# !mkdir test\n",
        "\n",
        "# 移除目錄 其中必須為空\n",
        "# !rmdir test\n",
        "\n",
        "# 移除檔案或目錄 (-rf刪除目錄連檔案)\n",
        "# !rm -rf /content/sample_data/\n",
        "\n",
        "# 移動檔案或目錄\n",
        "# !mv \n",
        "\n",
        "# 複製檔案或目錄\n",
        "# !cp\n",
        "\n",
        "# 解壓縮檔案\n",
        "# !unzip HelloPython.zip\n",
        "\n",
        "# 搜尋檔案並取代\n",
        "# !sed -i 's/ 搜尋字串/ 取代字串/g' 檔案名稱\n",
        "\n",
        "# 顯示bash介面 退出輸入 exit\n",
        "# !bash"
      ],
      "execution_count": null,
      "outputs": []
    },
    {
      "cell_type": "markdown",
      "metadata": {
        "id": "tCvZQzWbOMX5"
      },
      "source": [
        "## 模組安裝相關"
      ]
    },
    {
      "cell_type": "code",
      "metadata": {
        "id": "8M8XN99ocRkD"
      },
      "source": [
        "# 安裝模組\n",
        "# !pip instll pytube\n",
        "\n",
        "# 顯示指定的模組\n",
        "# !pip show pytbue\n",
        "\n",
        "# 顯示所有安裝的模組\n",
        "# !pip list\n",
        "\n",
        "# 移除模組\n",
        "# !pip uninstall pytbue"
      ],
      "execution_count": null,
      "outputs": []
    },
    {
      "cell_type": "markdown",
      "metadata": {
        "id": "WQEw7vPtZeo3"
      },
      "source": [
        "# 六、魔術指令 %\n",
        "\n",
        "1. % 行魔術指令：單行\n",
        "2. %% 儲存格魔術指令：多行 "
      ]
    },
    {
      "cell_type": "code",
      "metadata": {
        "id": "xNtkLw_oa2g-"
      },
      "source": [
        "# 查詢魔術指令\n",
        "# %lsmagic\n",
        "\n",
        "# 切換目錄\n",
        "# %cd\n",
        "\n",
        "# 新增檔案內容\n",
        "# %%writefile test.csv\n",
        "# aaa,bbb,ccc\n",
        "# 111,222,333\n",
        "# %%writefile test1.py\n",
        "# print(\"Hello Worl\")\n",
        "\n",
        "# 執行程式\n",
        "# %run test1.py\n",
        "\n",
        "# 查詢所有變數\n",
        "# a = b = c = 20\n",
        "# %whos"
      ],
      "execution_count": null,
      "outputs": []
    },
    {
      "cell_type": "markdown",
      "metadata": {
        "id": "VHzLyo9nPwTc"
      },
      "source": [
        "# 七、常用功能程式碼"
      ]
    },
    {
      "cell_type": "code",
      "metadata": {
        "id": "_HJ2tcq8AWOF"
      },
      "source": [
        "# 若是自行新增的筆記本，掛接雲端硬碟會自動授權並進行掛接。\n",
        "# 若是由他人的筆記本複製到雲端硬碟為複本執行時，\n",
        "# 若要掛接雲端硬碟，會自動顯示以下的程式碼，執行後會更求授權才能完成掛接動作。\n",
        "from google.colab import drive\n",
        "drive.mount('/content/drive')"
      ],
      "execution_count": null,
      "outputs": []
    },
    {
      "cell_type": "code",
      "metadata": {
        "id": "PF04puXaPCdW"
      },
      "source": [
        "# 上傳檔案到虛擬主機根目錄\n",
        "from google.colab import files\n",
        "files.upload()"
      ],
      "execution_count": null,
      "outputs": []
    },
    {
      "cell_type": "code",
      "metadata": {
        "id": "f_tufYisPL8f"
      },
      "source": [
        "# 由虛擬主機下載檔案\n",
        "from google.colab import files\n",
        "files.download('path/to/your/file')"
      ],
      "execution_count": null,
      "outputs": []
    }
  ]
}