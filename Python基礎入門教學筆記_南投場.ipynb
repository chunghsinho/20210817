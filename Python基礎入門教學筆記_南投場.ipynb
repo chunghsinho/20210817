{
 "cells": [
  {
   "cell_type": "markdown",
   "id": "2058f97c",
   "metadata": {},
   "source": [
    "# 標題一\n",
    "## 標題二\n",
    "### 標題三\n",
    "\n",
    "這是內文這是內文**這是內文**這是內文*這是內文*這是內文這是內文這是內文這是內文***這是內文***這是內文`Ctrl+C`這是內文這是內文這是內文這是內文這是內文`print()`這是內文這是內文這是內文這是內文這是內文\n",
    "\n",
    "這是內文這是內文這是內文這是內文 [Google](http://www.google.com) 這是內文這是內文這是內文這是內文這是內文這是內文這是內文這是內文這是內文這是內文這是內文這是內文這是內文這是內文這是內文這是內文這是內文\n",
    "\n",
    ">**【小技巧】**  \n",
    "小技巧小技巧小技巧小技巧小技巧小技巧小技巧小技巧小技巧小技巧小技巧小技巧小技巧小技巧小技巧小技巧小技巧小技巧小技巧小技巧小技巧小技巧小技巧小技巧小技巧小技巧\n",
    "\n",
    "```\n",
    "print(\"Hello World\")\n",
    "print(\"Hello Kitty\")\n",
    "```\n",
    "\n",
    "1. 編號1\n",
    "2. 編號2\n",
    "3. 編號3\n",
    "\n",
    "* 項目一\n",
    "* 項目二\n",
    "* 項目三\n",
    "\n",
    "https://www.google.com\n",
    "\n",
    "[Google](http://www.google.com)\n",
    "\n",
    "![](http://localhost:8888/static/base/images/logo.png?v=a2a176ee3cee251ffddf5fa21fe8e43727a9e5f87a06f9c91ad7b776d9e9d3d5e0159c16cc188a3965e00375fb4bc336c16067c688f5040c0c2d4bfdb852a9e4)"
   ]
  },
  {
   "cell_type": "markdown",
   "id": "9a6dc8fa",
   "metadata": {},
   "source": [
    "# 一、變數與資料型態"
   ]
  },
  {
   "cell_type": "code",
   "execution_count": 8,
   "id": "811367c1",
   "metadata": {},
   "outputs": [
    {
     "data": {
      "text/plain": [
       "float"
      ]
     },
     "execution_count": 8,
     "metadata": {},
     "output_type": "execute_result"
    }
   ],
   "source": [
    "# int, float\n",
    "x = 1\n",
    "y = 2\n",
    "a = b = c = 0\n",
    "pi = 3.14\n",
    "name, age = \"David\", 18\n",
    "type(pi)"
   ]
  },
  {
   "cell_type": "code",
   "execution_count": 12,
   "id": "dcf1ea07",
   "metadata": {},
   "outputs": [
    {
     "name": "stdout",
     "output_type": "stream",
     "text": [
      "How are you?\n",
      "Fine, Thank you.\n",
      "\n"
     ]
    }
   ],
   "source": [
    "# str\n",
    "name = \"David\"\n",
    "# This is David's iPhone\n",
    "demostr = 'This is David\\'s iPhone'\n",
    "poem = \"\"\"How are you?\n",
    "Fine, Thank you.\n",
    "\"\"\"\n",
    "print(poem)"
   ]
  },
  {
   "cell_type": "code",
   "execution_count": 26,
   "id": "b4c3d3d1",
   "metadata": {},
   "outputs": [
    {
     "data": {
      "text/plain": [
       "bool"
      ]
     },
     "execution_count": 26,
     "metadata": {},
     "output_type": "execute_result"
    }
   ],
   "source": [
    "# bool\n",
    "isMarry = True\n",
    "type(isMarry)"
   ]
  },
  {
   "cell_type": "code",
   "execution_count": 28,
   "id": "7a73ef6a",
   "metadata": {
    "scrolled": true
   },
   "outputs": [
    {
     "name": "stdout",
     "output_type": "stream",
     "text": [
      "170\n"
     ]
    }
   ],
   "source": [
    "# 資料型別轉換 int() float() str()\n",
    "score1 = \"80\"\n",
    "score2 = \"90\"\n",
    "print(int(score1) + int(score2))"
   ]
  },
  {
   "cell_type": "markdown",
   "id": "f4592679",
   "metadata": {},
   "source": [
    "# 二、輸出與輸入\n",
    "\n",
    "## 輸出 print()"
   ]
  },
  {
   "cell_type": "code",
   "execution_count": 41,
   "id": "b4a240c6",
   "metadata": {},
   "outputs": [
    {
     "name": "stdout",
     "output_type": "stream",
     "text": [
      "123\n",
      "456\n"
     ]
    }
   ],
   "source": [
    "# print(x, y, a, b, c)\n",
    "# print(name, age)\n",
    "# print(isMarry)\n",
    "# print(\"David\", 18, 180, 80, 2.0, True, sep=\"&\")\n",
    "# print(\"David\", 18, 180, 80, 2.0, True, sep=\"&\", end=\".\")\n",
    "print(123, end=\"\\n\")\n",
    "print(456)"
   ]
  },
  {
   "cell_type": "code",
   "execution_count": 48,
   "id": "4019ad14",
   "metadata": {},
   "outputs": [
    {
     "name": "stdout",
     "output_type": "stream",
     "text": [
      "王小明考了80分\n",
      "王小明考了80分\n",
      "  王小明考了 80分\n",
      "王小明  考了80 分\n",
      "圓周率是3.14\n",
      "圓周率是 3.14\n"
     ]
    }
   ],
   "source": [
    "# print()參數格式化：%\n",
    "print(\"王小明考了80分\")\n",
    "print(\"%s考了%d分\" % (\"王小明\", 80))\n",
    "print(\"%5s考了%3d分\" % (\"王小明\", 80))\n",
    "print(\"%-5s考了%-3d分\" % (\"王小明\", 80))\n",
    "print(\"圓周率是%.2f\" % (3.14159))\n",
    "print(\"圓周率是%5.2f\" % (3.14159))"
   ]
  },
  {
   "cell_type": "code",
   "execution_count": 61,
   "id": "5942f9a4",
   "metadata": {},
   "outputs": [
    {
     "name": "stdout",
     "output_type": "stream",
     "text": [
      "王小明考了80分\n",
      "圓周率是3.14\n",
      "圓周率是 3.14\n"
     ]
    }
   ],
   "source": [
    "# print()參數格式化：format()\n",
    "# print(\"王小明考了80分\")\n",
    "# print(\"{}考了{}分\".format(\"王小明\", 80))\n",
    "# print(\"考了{1}分的人是{0}\".format(\"王小明\", 80))\n",
    "# print(\"考了{1}分的人是{0},真的是{0}啊！\".format(\"王小明\", 80))\n",
    "# print(\"{0:5}考了{1:3}分\".format(\"王小明\", 80))\n",
    "# print(\"{0:>5}考了{1:<3}分\".format(\"王小明\", 80))\n",
    "# print(\"{0:^5}考了{1:<3}分\".format(\"王小明\", 80))\n",
    "print(\"圓周率是{:.2f}\".format(3.14159))\n",
    "print(\"圓周率是{:5.2f}\".format(3.14159))"
   ]
  },
  {
   "cell_type": "markdown",
   "id": "fde2b137",
   "metadata": {},
   "source": [
    "## 輸入 input()"
   ]
  },
  {
   "cell_type": "code",
   "execution_count": 66,
   "id": "0cc320db",
   "metadata": {
    "scrolled": true
   },
   "outputs": [
    {
     "name": "stdout",
     "output_type": "stream",
     "text": [
      "請輸入你的成績：60\n",
      "你輸入的成績是60分\n"
     ]
    }
   ],
   "source": [
    "score = input(\"請輸入你的成績：\")\n",
    "print(\"你輸入的成績是{}分\".format(score))"
   ]
  },
  {
   "cell_type": "code",
   "execution_count": 64,
   "id": "ddbb2082",
   "metadata": {},
   "outputs": [
    {
     "name": "stdout",
     "output_type": "stream",
     "text": [
      "請輸入你的國文成績：80\n",
      "請輸入你的英文成績：90\n",
      "你的總分績是 8090 分\n"
     ]
    }
   ],
   "source": [
    "# input()接收的值資料型態是 str\n",
    "score1 = input(\"請輸入你的國文成績：\")\n",
    "score2 = input(\"請輸入你的英文成績：\")\n",
    "print(\"你的總分績是 {} 分\".format(score1 + score2))"
   ]
  },
  {
   "cell_type": "code",
   "execution_count": 67,
   "id": "2674b8fa",
   "metadata": {
    "scrolled": true
   },
   "outputs": [
    {
     "name": "stdout",
     "output_type": "stream",
     "text": [
      "請輸入你的國文成績：80\n",
      "請輸入你的英文成績：90\n",
      "你的總分績是 170 分\n"
     ]
    }
   ],
   "source": [
    "score1 = int(input(\"請輸入你的國文成績：\"))\n",
    "score2 = int(input(\"請輸入你的英文成績：\"))\n",
    "print(\"你的總分績是 {} 分\".format(score1 + score2))"
   ]
  },
  {
   "cell_type": "markdown",
   "id": "5037b024",
   "metadata": {},
   "source": [
    "## 三、運算子"
   ]
  },
  {
   "cell_type": "code",
   "execution_count": 1,
   "id": "8c081789",
   "metadata": {},
   "outputs": [
    {
     "name": "stdout",
     "output_type": "stream",
     "text": [
      "8 2 15 1.6666666666666667 2 1 125\n"
     ]
    }
   ],
   "source": [
    "# 算術運算子\n",
    "x = 5\n",
    "y = 3\n",
    "\n",
    "print(x+y, x-y, x*y, x/y, x%y, x//y, x**y)"
   ]
  },
  {
   "cell_type": "code",
   "execution_count": 3,
   "id": "388999f1",
   "metadata": {},
   "outputs": [
    {
     "name": "stdout",
     "output_type": "stream",
     "text": [
      "False True True True False False\n"
     ]
    }
   ],
   "source": [
    "# 比較運算子\n",
    "x = 5\n",
    "y = 3\n",
    "\n",
    "print(x==y, x!=y, x>y, x>=y, x<y, x<=y)"
   ]
  },
  {
   "cell_type": "code",
   "execution_count": 5,
   "id": "8c00be17",
   "metadata": {},
   "outputs": [
    {
     "data": {
      "text/plain": [
       "0"
      ]
     },
     "execution_count": 5,
     "metadata": {},
     "output_type": "execute_result"
    }
   ],
   "source": [
    "# 複合指定運算子\n",
    "x = 1\n",
    "# x = x + 1\n",
    "# x += 1\n",
    "x -= 1\n",
    "x"
   ]
  },
  {
   "cell_type": "code",
   "execution_count": 10,
   "id": "4d37a0b4",
   "metadata": {
    "scrolled": true
   },
   "outputs": [
    {
     "name": "stdout",
     "output_type": "stream",
     "text": [
      "請輸入攝氏溫度：32\n",
      "攝氏32度等於華氏89.60度\n"
     ]
    }
   ],
   "source": [
    "# 範例：攝氏華氏換算器\n",
    "TC = float(input(\"請輸入攝氏溫度：\"))\n",
    "TF = TC * (9/5) + 32\n",
    "print(\"攝氏{:.0f}度等於華氏{:.2f}度\".format(TC, TF))"
   ]
  },
  {
   "cell_type": "code",
   "execution_count": 14,
   "id": "a21685ea",
   "metadata": {
    "scrolled": true
   },
   "outputs": [
    {
     "name": "stdout",
     "output_type": "stream",
     "text": [
      "請輸入身高(cm)：180\n",
      "請輸入體重(kg)：80\n",
      "身高180公分\n",
      "體重80公斤\n",
      "BMI值等於24.69\n"
     ]
    }
   ],
   "source": [
    "# 範例：BMI計算機\n",
    "h = int(input(\"請輸入身高(cm)：\"))\n",
    "w = int(input(\"請輸入體重(kg)：\"))\n",
    "bmi = w / (h/100)**2\n",
    "print(\"身高{}公分\\n體重{}公斤\\nBMI值等於{:.2f}\".format(h, w, bmi))"
   ]
  },
  {
   "cell_type": "markdown",
   "id": "27309b21",
   "metadata": {},
   "source": [
    "# 四、判斷式"
   ]
  },
  {
   "cell_type": "code",
   "execution_count": 17,
   "id": "60af48c8",
   "metadata": {},
   "outputs": [
    {
     "name": "stdout",
     "output_type": "stream",
     "text": [
      "請輸入你的成績：50\n"
     ]
    }
   ],
   "source": [
    "# 單向判斷式\n",
    "score = int(input(\"請輸入你的成績：\"))\n",
    "if score >= 60:\n",
    "    print(\"Pass\")"
   ]
  },
  {
   "cell_type": "code",
   "execution_count": 20,
   "id": "6f5cf5c3",
   "metadata": {},
   "outputs": [
    {
     "name": "stdout",
     "output_type": "stream",
     "text": [
      "請輸入你的成績：50\n",
      "Down\n"
     ]
    }
   ],
   "source": [
    "# 雙向判斷式\n",
    "score = int(input(\"請輸入你的成績：\"))\n",
    "if score >= 60:\n",
    "    print(\"Pass\")\n",
    "else:\n",
    "    print(\"Down\")"
   ]
  },
  {
   "cell_type": "code",
   "execution_count": 26,
   "id": "1cf0aae8",
   "metadata": {
    "scrolled": true
   },
   "outputs": [
    {
     "name": "stdout",
     "output_type": "stream",
     "text": [
      "請輸入你的成績：50\n",
      "Down\n"
     ]
    }
   ],
   "source": [
    "# 多向判斷式\n",
    "score = int(input(\"請輸入你的成績：\"))\n",
    "if score >= 90 :\n",
    "    print(\"A\")\n",
    "elif score >= 80:\n",
    "    print(\"B\")\n",
    "elif score >= 70:\n",
    "    print(\"C\")\n",
    "elif score >= 60:\n",
    "    print(\"D\")\n",
    "else:\n",
    "    print(\"Down\")"
   ]
  },
  {
   "cell_type": "code",
   "execution_count": 30,
   "id": "78784c82",
   "metadata": {},
   "outputs": [
    {
     "name": "stdout",
     "output_type": "stream",
     "text": [
      "請輸入一個整數：0\n",
      "0 是偶數\n"
     ]
    }
   ],
   "source": [
    "# 判斷奇偶數\n",
    "n = int(input(\"請輸入一個整數：\"))\n",
    "if n % 2 == 0:\n",
    "    print(n, \"是偶數\")\n",
    "else:\n",
    "    print(n, \"是奇數\")"
   ]
  },
  {
   "cell_type": "code",
   "execution_count": 34,
   "id": "c7b07535",
   "metadata": {},
   "outputs": [
    {
     "name": "stdout",
     "output_type": "stream",
     "text": [
      "請輸入一個西元年：1900\n",
      "西元1900年不是閏年\n"
     ]
    }
   ],
   "source": [
    "# 閏年判斷\n",
    "leapyear = int(input(\"請輸入一個西元年：\"))\n",
    "if leapyear % 100 == 0:\n",
    "    if leapyear % 400 == 0:\n",
    "        print(\"西元{}年是閏年\".format(leapyear))\n",
    "    else:\n",
    "        print(\"西元{}年不是閏年\".format(leapyear))\n",
    "else:\n",
    "    if leapyear % 4 == 0:\n",
    "        print(\"西元{}年是閏年\".format(leapyear))\n",
    "    else:\n",
    "        print(\"西元{}年不是閏年\".format(leapyear))        "
   ]
  },
  {
   "cell_type": "code",
   "execution_count": 2,
   "id": "1e5a2c12",
   "metadata": {},
   "outputs": [
    {
     "name": "stdout",
     "output_type": "stream",
     "text": [
      "24.691358024691358\n",
      "體重過重，吃少一點。\n"
     ]
    }
   ],
   "source": [
    "def getBMI(w, h):\n",
    "    bmi = w / (h/100) ** 2\n",
    "    if bmi <= 18.5:\n",
    "        msg = \"體重過輕，吃多一點。\"\n",
    "    elif bmi > 24:\n",
    "        msg = \"體重過重，吃少一點。\"\n",
    "    else:\n",
    "        msg = \"體重標準。\"\n",
    "    return bmi, msg\n",
    "\n",
    "BMI, MSG = getBMI(80, 180)\n",
    "print(BMI)\n",
    "print(MSG)"
   ]
  },
  {
   "cell_type": "markdown",
   "id": "8e4a232b",
   "metadata": {},
   "source": [
    "# 五、自訂函式"
   ]
  },
  {
   "cell_type": "code",
   "execution_count": 2,
   "id": "be19d905",
   "metadata": {},
   "outputs": [
    {
     "name": "stdout",
     "output_type": "stream",
     "text": [
      "Hello World\n",
      "Hello World\n"
     ]
    }
   ],
   "source": [
    "# 基本函式設定\n",
    "def sayHello():\n",
    "    print(\"Hello World\")\n",
    "\n",
    "sayHello()\n",
    "sayHello()"
   ]
  },
  {
   "cell_type": "code",
   "execution_count": 4,
   "id": "470e26f9",
   "metadata": {},
   "outputs": [
    {
     "name": "stdout",
     "output_type": "stream",
     "text": [
      "Hello, David\n",
      "Hello, Lily\n"
     ]
    }
   ],
   "source": [
    "# 帶參數\n",
    "def sayHello(name):\n",
    "    print(\"Hello,\", name)\n",
    "    \n",
    "sayHello(\"David\")\n",
    "sayHello(\"Lily\")"
   ]
  },
  {
   "cell_type": "code",
   "execution_count": 7,
   "id": "12e7ea44",
   "metadata": {},
   "outputs": [
    {
     "name": "stdout",
     "output_type": "stream",
     "text": [
      "Hello, Lily\n"
     ]
    }
   ],
   "source": [
    "# 回傳值\n",
    "def sayHello(name):\n",
    "    msg = 'Hello, ' + name\n",
    "    return msg\n",
    "\n",
    "# def sayHello(name):\n",
    "#     return 'Hello, ' + name\n",
    "\n",
    "# message = sayHello('David')\n",
    "# print(message)\n",
    "print(sayHello('Lily'))"
   ]
  },
  {
   "cell_type": "code",
   "execution_count": 10,
   "id": "8989f393",
   "metadata": {},
   "outputs": [
    {
     "name": "stdout",
     "output_type": "stream",
     "text": [
      "總面積是：68\n"
     ]
    }
   ],
   "source": [
    "# 範例：請開發一個函式 getArea()，其中有二個參數 w, h\n",
    "# 呼叫時利用 w, h 計算出指定區域的面積並回傳\n",
    "def getArea(w, h):\n",
    "    area = w * h\n",
    "    return area\n",
    "\n",
    "# print(getArea(4, 5))\n",
    "# print(getArea(6, 8))\n",
    "totalArea = getArea(4, 5) + getArea(6, 8)\n",
    "print(\"總面積是：\" + str(totalArea))"
   ]
  },
  {
   "cell_type": "code",
   "execution_count": 12,
   "id": "7a2cfa35",
   "metadata": {},
   "outputs": [
    {
     "name": "stdout",
     "output_type": "stream",
     "text": [
      "請輸入你的身高(cm):180\n",
      "請輸入你的體重(kg):60\n",
      "身高180公分，體重60公斤，你的BMI值為18.52\n"
     ]
    }
   ],
   "source": [
    "# 請開發一個getBMI()，輸入身高(cm)，輸入體重(kg)，會回傳BMI值\n",
    "# 公式 BMI = 體重 / 身高(m) 的平方\n",
    "\n",
    "def getBMI(w, h):\n",
    "    bmi = w / (h / 100) ** 2\n",
    "    return bmi\n",
    "\n",
    "h = int(input(\"請輸入你的身高(cm):\"))\n",
    "w = int(input(\"請輸入你的體重(kg):\"))\n",
    "BMI = getBMI(w, h)\n",
    "print(\"身高{}公分，體重{}公斤，你的BMI值為{:.2f}\".format(h, w, BMI))"
   ]
  },
  {
   "cell_type": "code",
   "execution_count": 15,
   "id": "5d144147",
   "metadata": {},
   "outputs": [
    {
     "name": "stdout",
     "output_type": "stream",
     "text": [
      "請輸入你的身高(cm):177\n",
      "請輸入你的體重(kg):51\n",
      "身高177公分，體重51公斤，你的BMI值為16.28，太輕了，多吃一點。。\n"
     ]
    }
   ],
   "source": [
    "# 請開發一個getBMI()，輸入身高(cm)，輸入體重(kg)，會回傳BMI值\n",
    "# 公式 BMI = 體重 / 身高(m) 的平方\n",
    "# BMI 值如果小於等於 18.5 顯示訊息 「太輕了，多吃一點。」\n",
    "# BMI 值如果大於 24 顯示訊息 「太重了，少吃一點。」\n",
    "# BMI 值如果大於 18.5 且 小於等於 24，顯示訊息「恭禧，體重標準」\n",
    "\n",
    "def getBMI(w, h):\n",
    "    bmi = w / (h / 100) ** 2\n",
    "    if bmi <= 18.5:\n",
    "        msg = \"太輕了，多吃一點。\"\n",
    "    elif bmi > 24:\n",
    "        msg = \"太重了，少吃一點。\"\n",
    "    else:\n",
    "        msg = \"恭禧，體重標準。\"\n",
    "    return bmi, msg\n",
    "\n",
    "h = int(input(\"請輸入你的身高(cm):\"))\n",
    "w = int(input(\"請輸入你的體重(kg):\"))\n",
    "BMI, MSG = getBMI(w, h)\n",
    "print(\"身高{}公分，體重{}公斤，你的BMI值為{:.2f}，{}\".format(h, w, BMI, MSG))"
   ]
  },
  {
   "cell_type": "markdown",
   "id": "5379312c",
   "metadata": {},
   "source": [
    "# 六、串列與整數串列"
   ]
  },
  {
   "cell_type": "code",
   "execution_count": 21,
   "id": "80127c4d",
   "metadata": {},
   "outputs": [
    {
     "name": "stdout",
     "output_type": "stream",
     "text": [
      "[80, 70, 90, 85] ['David', 18, True]\n"
     ]
    }
   ],
   "source": [
    "# 串列定義\n",
    "x = [80, 70, 90, 85]\n",
    "y = [\"David\", 18, True]\n",
    "# type(y)\n",
    "print(x, y)"
   ]
  },
  {
   "cell_type": "code",
   "execution_count": 41,
   "id": "7f493f44",
   "metadata": {},
   "outputs": [
    {
     "name": "stdout",
     "output_type": "stream",
     "text": [
      "[1, 2, 3, 4, 5, 6, 7, 8, 9]\n",
      "[5, 6, 7, 8, 9]\n",
      "[1, 2, 3]\n",
      "[9, 8, 7, 6, 5, 4, 3, 2, 1]\n"
     ]
    }
   ],
   "source": [
    "# 串列取值、切片\n",
    "x = [1,2,3,4,5,6,7,8,9]\n",
    "# print(x[6])\n",
    "# print(x[1:4])\n",
    "# print(x[-1])\n",
    "# print(x[0:9:2])\n",
    "# print(x[1:9:2])\n",
    "print(x[:])\n",
    "print(x[4:])\n",
    "print(x[:3])\n",
    "print(x[::-1])"
   ]
  },
  {
   "cell_type": "code",
   "execution_count": 48,
   "id": "d94f3416",
   "metadata": {},
   "outputs": [
    {
     "name": "stdout",
     "output_type": "stream",
     "text": [
      "[85, 67, 56, 43, 34, 12]\n"
     ]
    }
   ],
   "source": [
    "# 串列資料處理：計數、新增、插入、刪除、排序\n",
    "x = [34, 56, 12, 43, 85, 67]\n",
    "# print(len(x))\n",
    "# x.append(90)\n",
    "# x.insert(2, 'a')\n",
    "# x.pop()\n",
    "# x.remove(12)\n",
    "# x.sort()\n",
    "# x.reverse()\n",
    "print(x)"
   ]
  },
  {
   "cell_type": "code",
   "execution_count": 59,
   "id": "fa33cb05",
   "metadata": {},
   "outputs": [
    {
     "name": "stdout",
     "output_type": "stream",
     "text": [
      "[10, 8, 6]\n"
     ]
    }
   ],
   "source": [
    "# range() 整數串列\n",
    "# x = range(11)\n",
    "# x = range(1, 6)\n",
    "# x = range(1, 11, 2)\n",
    "# x = range(2, 11, 2)\n",
    "# x = range(10, 5, -1)\n",
    "x = range(10, 5, -2)\n",
    "print(list(x))"
   ]
  },
  {
   "cell_type": "markdown",
   "id": "03a188a5",
   "metadata": {},
   "source": [
    "# 七、迴圈\n",
    "\n",
    "## for 迴圈"
   ]
  },
  {
   "cell_type": "code",
   "execution_count": 63,
   "id": "227c531a",
   "metadata": {},
   "outputs": [
    {
     "name": "stdout",
     "output_type": "stream",
     "text": [
      "Apple,Banana,Cherry,"
     ]
    }
   ],
   "source": [
    "# for list 迴圈\n",
    "x = ['Apple', 'Banana', 'Cherry']\n",
    "for fruit in x:\n",
    "    print(fruit, end=\",\")"
   ]
  },
  {
   "cell_type": "code",
   "execution_count": 64,
   "id": "c14c261c",
   "metadata": {},
   "outputs": [
    {
     "name": "stdout",
     "output_type": "stream",
     "text": [
      "55\n"
     ]
    }
   ],
   "source": [
    "# 用for list迴圈算1加到10\n",
    "x = [1,2,3,4,5,6,7,8,9,10]\n",
    "total = 0\n",
    "for i in x:\n",
    "    total = total + i\n",
    "print(total)    "
   ]
  },
  {
   "cell_type": "code",
   "execution_count": 66,
   "id": "dc3ea274",
   "metadata": {},
   "outputs": [
    {
     "name": "stdout",
     "output_type": "stream",
     "text": [
      "5050\n"
     ]
    }
   ],
   "source": [
    "# 用for range迴圈算1加到10\n",
    "x = range(1, 10)\n",
    "total = 0\n",
    "for i in x:\n",
    "    total = total + i\n",
    "print(total)    "
   ]
  },
  {
   "cell_type": "code",
   "execution_count": 70,
   "id": "3b39e287",
   "metadata": {},
   "outputs": [
    {
     "name": "stdout",
     "output_type": "stream",
     "text": [
      "2500\n"
     ]
    }
   ],
   "source": [
    "# 範例：請計算1到100奇數的總和\n",
    "total = 0\n",
    "for i in range(1, 101, 2):\n",
    "    total += i\n",
    "print(total)    "
   ]
  },
  {
   "cell_type": "code",
   "execution_count": 75,
   "id": "b6325e7e",
   "metadata": {
    "scrolled": true
   },
   "outputs": [
    {
     "name": "stdout",
     "output_type": "stream",
     "text": [
      "Banana\n",
      "Cherry\n",
      "Orange\n"
     ]
    }
   ],
   "source": [
    "# 範例：請取出串列中第2、3、4個水果\n",
    "x = [\"Apple\", \"Banana\", \"Cherry\", \"Orange\", \"Lemon\"]\n",
    "for i in range(1, 4):\n",
    "    print(x[i])"
   ]
  },
  {
   "cell_type": "code",
   "execution_count": 82,
   "id": "0e9d3351",
   "metadata": {},
   "outputs": [
    {
     "name": "stdout",
     "output_type": "stream",
     "text": [
      "2*2=04 2*3=06 2*4=08 2*5=10 2*6=12 2*7=14 2*8=16 2*9=18 \n",
      "3*2=06 3*3=09 3*4=12 3*5=15 3*6=18 3*7=21 3*8=24 3*9=27 \n",
      "4*2=08 4*3=12 4*4=16 4*5=20 4*6=24 4*7=28 4*8=32 4*9=36 \n",
      "5*2=10 5*3=15 5*4=20 5*5=25 5*6=30 5*7=35 5*8=40 5*9=45 \n",
      "6*2=12 6*3=18 6*4=24 6*5=30 6*6=36 6*7=42 6*8=48 6*9=54 \n",
      "7*2=14 7*3=21 7*4=28 7*5=35 7*6=42 7*7=49 7*8=56 7*9=63 \n",
      "8*2=16 8*3=24 8*4=32 8*5=40 8*6=48 8*7=56 8*8=64 8*9=72 \n",
      "9*2=18 9*3=27 9*4=36 9*5=45 9*6=54 9*7=63 9*8=72 9*9=81 \n"
     ]
    }
   ],
   "source": [
    "# 請印出一個 2-9 的九九乘法表\n",
    "# 2*1=02 2*2=04 2*3=06 2*4=08 2*5=10 2*6=12 2*7=14 2*8=16 2*9=18 \n",
    "# 3*1=03 3*2=06 3*3=09 3*4=12 3*5=15 3*6=18 3*7=21 3*8=24 3*9=27 \n",
    "# 4*1=04 4*2=08 4*3=12 4*4=16 4*5=20 4*6=24 4*7=28 4*8=32 4*9=36 \n",
    "# 5*1=05 5*2=10 5*3=15 5*4=20 5*5=25 5*6=30 5*7=35 5*8=40 5*9=45 \n",
    "# 6*1=06 6*2=12 6*3=18 6*4=24 6*5=30 6*6=36 6*7=42 6*8=48 6*9=54 \n",
    "# 7*1=07 7*2=14 7*3=21 7*4=28 7*5=35 7*6=42 7*7=49 7*8=56 7*9=63 \n",
    "# 8*1=08 8*2=16 8*3=24 8*4=32 8*5=40 8*6=48 8*7=56 8*8=64 8*9=72 \n",
    "# 9*1=09 9*2=18 9*3=27 9*4=36 9*5=45 9*6=54 9*7=63 9*8=72 9*9=81\n",
    "\n",
    "for i in range(2, 10):\n",
    "    for j in range(2, 10):\n",
    "        print(\"{}*{}={:02d}\".format(i, j, i*j), end=\" \")\n",
    "    print()"
   ]
  },
  {
   "cell_type": "code",
   "execution_count": null,
   "id": "8c32e969",
   "metadata": {},
   "outputs": [],
   "source": [
    "# 請印出以下三角形\n",
    "# *\n",
    "# ***\n",
    "# *****\n",
    "# *******\n",
    "# *********"
   ]
  },
  {
   "cell_type": "code",
   "execution_count": 83,
   "id": "b9187f60",
   "metadata": {
    "scrolled": true
   },
   "outputs": [
    {
     "name": "stdout",
     "output_type": "stream",
     "text": [
      "*\n",
      "***\n",
      "*****\n",
      "*******\n",
      "*********\n"
     ]
    }
   ],
   "source": [
    "print(\"*\")\n",
    "print(\"***\")\n",
    "print(\"*****\")\n",
    "print(\"*******\")\n",
    "print(\"*********\")"
   ]
  },
  {
   "cell_type": "code",
   "execution_count": 89,
   "id": "76a8ee81",
   "metadata": {
    "scrolled": true
   },
   "outputs": [
    {
     "name": "stdout",
     "output_type": "stream",
     "text": [
      "*\n",
      "***\n",
      "*****\n",
      "*******\n",
      "*********\n"
     ]
    }
   ],
   "source": [
    "for i in range(1,10,2):\n",
    "    print(i * '*')"
   ]
  },
  {
   "cell_type": "code",
   "execution_count": 90,
   "id": "76aa53a4",
   "metadata": {},
   "outputs": [
    {
     "name": "stdout",
     "output_type": "stream",
     "text": [
      "        *\n",
      "      ***\n",
      "    *****\n",
      "  *******\n",
      "*********\n"
     ]
    }
   ],
   "source": [
    "# 請印出以下三角形\n",
    "#         *\n",
    "#       ***\n",
    "#     *****\n",
    "#   *******\n",
    "# *********\n",
    "for i in range(1,10,2):\n",
    "    print((9-i) * ' ' + i * '*')"
   ]
  },
  {
   "cell_type": "code",
   "execution_count": 92,
   "id": "b8b2edc5",
   "metadata": {
    "scrolled": true
   },
   "outputs": [
    {
     "name": "stdout",
     "output_type": "stream",
     "text": [
      "    *\n",
      "   ***\n",
      "  *****\n",
      " *******\n",
      "*********\n"
     ]
    }
   ],
   "source": [
    "# 請印出以下三角形\n",
    "#     *\n",
    "#    ***\n",
    "#   *****\n",
    "#  *******\n",
    "# *********\n",
    "for i in range(1,10,2):\n",
    "    print(int((9-i)/2) * ' ' + i * '*')"
   ]
  },
  {
   "cell_type": "code",
   "execution_count": 100,
   "id": "fe50ec83",
   "metadata": {},
   "outputs": [
    {
     "name": "stdout",
     "output_type": "stream",
     "text": [
      "*        \n",
      "***      \n",
      "*****    \n",
      "*******  \n",
      "*********\n",
      "        *\n",
      "      ***\n",
      "    *****\n",
      "  *******\n",
      "*********\n",
      "    *    \n",
      "   ***   \n",
      "  *****  \n",
      " ******* \n",
      "*********\n"
     ]
    }
   ],
   "source": [
    "for i in range(1, 10, 2):\n",
    "    print(\"{:<9}\".format(i * '*'))\n",
    "for i in range(1, 10, 2):\n",
    "    print(\"{:>9}\".format(i * '*'))\n",
    "for i in range(1, 10, 2):\n",
    "    print(\"{:^9}\".format(i * '*'))    "
   ]
  },
  {
   "cell_type": "markdown",
   "id": "7c421387",
   "metadata": {},
   "source": [
    "# 八、模組"
   ]
  },
  {
   "cell_type": "code",
   "execution_count": 125,
   "id": "a004666a",
   "metadata": {},
   "outputs": [
    {
     "name": "stdout",
     "output_type": "stream",
     "text": [
      "9\n"
     ]
    }
   ],
   "source": [
    "import random\n",
    "print(random.randint(1, 10))"
   ]
  },
  {
   "cell_type": "code",
   "execution_count": 137,
   "id": "53fa8e5e",
   "metadata": {},
   "outputs": [
    {
     "name": "stdout",
     "output_type": "stream",
     "text": [
      "9\n"
     ]
    }
   ],
   "source": [
    "import random as r\n",
    "print(r.randint(1, 10))"
   ]
  },
  {
   "cell_type": "code",
   "execution_count": 168,
   "id": "692dc7e4",
   "metadata": {},
   "outputs": [
    {
     "name": "stdout",
     "output_type": "stream",
     "text": [
      "4\n"
     ]
    }
   ],
   "source": [
    "from random import randint\n",
    "print(randint(1, 10))"
   ]
  },
  {
   "cell_type": "code",
   "execution_count": 183,
   "id": "bbc772dc",
   "metadata": {},
   "outputs": [
    {
     "name": "stdout",
     "output_type": "stream",
     "text": [
      "6\n"
     ]
    }
   ],
   "source": [
    "from random import randint as rt\n",
    "print(rt(1, 10))"
   ]
  },
  {
   "cell_type": "code",
   "execution_count": 220,
   "id": "21988e43",
   "metadata": {
    "scrolled": true
   },
   "outputs": [
    {
     "name": "stdout",
     "output_type": "stream",
     "text": [
      "8\n",
      "1\n"
     ]
    }
   ],
   "source": [
    "from random import randint, randrange\n",
    "print(randrange(2, 11, 2))\n",
    "print(randint(1, 10))"
   ]
  },
  {
   "cell_type": "code",
   "execution_count": 239,
   "id": "091e51eb",
   "metadata": {},
   "outputs": [
    {
     "name": "stdout",
     "output_type": "stream",
     "text": [
      "4\n",
      "8\n"
     ]
    }
   ],
   "source": [
    "from random import *\n",
    "print(randrange(2, 11, 2))\n",
    "print(randint(1, 10))"
   ]
  },
  {
   "cell_type": "code",
   "execution_count": 262,
   "id": "103fe4dc",
   "metadata": {},
   "outputs": [
    {
     "name": "stdout",
     "output_type": "stream",
     "text": [
      "[1, 5]\n",
      "[4, 2]\n"
     ]
    }
   ],
   "source": [
    "from random import sample\n",
    "list1 = [1, 2, 3, 4, 5]\n",
    "print(sample(list1, 2))\n",
    "\n",
    "import random\n",
    "list1 = [1, 2, 3, 4, 5]\n",
    "print(random.sample(list1, 2))"
   ]
  },
  {
   "cell_type": "code",
   "execution_count": 299,
   "id": "5609ee0e",
   "metadata": {},
   "outputs": [
    {
     "name": "stdout",
     "output_type": "stream",
     "text": [
      "開出順序： 1,8,42,5,24,45,\n",
      "大小順序： 1,5,8,24,42,45,\n",
      "特別號： 14\n"
     ]
    }
   ],
   "source": [
    "# 範例：大樂透開獎\n",
    "from random import sample\n",
    "ltlist = range(1, 47)\n",
    "ltno = sample(ltlist, 7)\n",
    "special = ltno.pop()\n",
    "print(\"開出順序：\", end=\" \")\n",
    "for lt in ltno:\n",
    "    print(lt, end=',')\n",
    "print()    \n",
    "print(\"大小順序：\", end=\" \")    \n",
    "ltno.sort()\n",
    "for lt in ltno:\n",
    "    print(lt, end=',')\n",
    "print()\n",
    "print('特別號：', special)"
   ]
  }
 ],
 "metadata": {
  "kernelspec": {
   "display_name": "Python 3",
   "language": "python",
   "name": "python3"
  },
  "language_info": {
   "codemirror_mode": {
    "name": "ipython",
    "version": 3
   },
   "file_extension": ".py",
   "mimetype": "text/x-python",
   "name": "python",
   "nbconvert_exporter": "python",
   "pygments_lexer": "ipython3",
   "version": "3.8.8"
  }
 },
 "nbformat": 4,
 "nbformat_minor": 5
}
