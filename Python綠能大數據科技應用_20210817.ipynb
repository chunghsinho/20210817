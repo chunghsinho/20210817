{
  "nbformat": 4,
  "nbformat_minor": 0,
  "metadata": {
    "colab": {
      "name": "Python綠能大數據科技應用_20210817",
      "provenance": [],
      "authorship_tag": "ABX9TyO25RP8Vqvwehr5waPwSGz5",
      "include_colab_link": true
    },
    "kernelspec": {
      "name": "python3",
      "display_name": "Python 3"
    },
    "language_info": {
      "name": "python"
    },
    "accelerator": "GPU"
  },
  "cells": [
    {
      "cell_type": "markdown",
      "metadata": {
        "id": "view-in-github",
        "colab_type": "text"
      },
      "source": [
        "<a href=\"https://colab.research.google.com/github/chunghsinho/20210817/blob/main/Python%E7%B6%A0%E8%83%BD%E5%A4%A7%E6%95%B8%E6%93%9A%E7%A7%91%E6%8A%80%E6%87%89%E7%94%A8_20210817.ipynb\" target=\"_parent\"><img src=\"https://colab.research.google.com/assets/colab-badge.svg\" alt=\"Open In Colab\"/></a>"
      ]
    },
    {
      "cell_type": "markdown",
      "metadata": {
        "id": "E5kC5zYwGnHk"
      },
      "source": [
        "##網路爬蟲運作流程\n",
        "\n",
        "請求 : requests - get/post\n",
        "\n",
        "回應 : beautifulsoup"
      ]
    },
    {
      "cell_type": "code",
      "metadata": {
        "colab": {
          "base_uri": "https://localhost:8080/"
        },
        "id": "bzgz3UU2HCNI",
        "outputId": "abe3aa09-b0fc-4a9a-f1c9-98696eb20bec"
      },
      "source": [
        "# 基礎爬蟲\n",
        "import requests\n",
        "url = \"http://ehappy.tw/bsdemo1.htm\"\n",
        "html = requests.get(url)\n",
        "html.encoding = \"utf-8\"\n",
        "print(html.text)"
      ],
      "execution_count": 1,
      "outputs": [
        {
          "output_type": "stream",
          "text": [
            "﻿<!doctype html>\r\n",
            "<html lang=\"zh\">\r\n",
            "  <head>\r\n",
            "    <meta charset=\"UTF-8\">\r\n",
            "    <title>我是網頁標題</title>\r\n",
            "  </head>\r\n",
            "  <body>\r\n",
            "    <h1 class=\"large\">我是標題</h1>\r\n",
            "    <div>\r\n",
            "      <p>我是段落</p>\r\n",
            "      <img src=\"https://www.w3.org/html/logo/downloads/HTML5_Logo_256.png\" alt=\"我是圖片\">\r\n",
            "      <a href=\"http://www.e-happy.com.tw\">我是超連結</a>\r\n",
            "    </div>\r\n",
            "  </body>\r\n",
            "</html>\n"
          ],
          "name": "stdout"
        }
      ]
    },
    {
      "cell_type": "code",
      "metadata": {
        "colab": {
          "base_uri": "https://localhost:8080/"
        },
        "id": "DzMJbQZ3HyL4",
        "outputId": "c65901aa-dd03-4135-8316-fd311ee86467"
      },
      "source": [
        "import requests\n",
        "url = \"http://ehappy.tw/bsdemo1.htm\"\n",
        "html = requests.post(url)\n",
        "html.encoding = \"utf-8\"\n",
        "print(html.text)"
      ],
      "execution_count": 2,
      "outputs": [
        {
          "output_type": "stream",
          "text": [
            "﻿<!doctype html>\r\n",
            "<html lang=\"zh\">\r\n",
            "  <head>\r\n",
            "    <meta charset=\"UTF-8\">\r\n",
            "    <title>我是網頁標題</title>\r\n",
            "  </head>\r\n",
            "  <body>\r\n",
            "    <h1 class=\"large\">我是標題</h1>\r\n",
            "    <div>\r\n",
            "      <p>我是段落</p>\r\n",
            "      <img src=\"https://www.w3.org/html/logo/downloads/HTML5_Logo_256.png\" alt=\"我是圖片\">\r\n",
            "      <a href=\"http://www.e-happy.com.tw\">我是超連結</a>\r\n",
            "    </div>\r\n",
            "  </body>\r\n",
            "</html>\n"
          ],
          "name": "stdout"
        }
      ]
    },
    {
      "cell_type": "code",
      "metadata": {
        "id": "flc4wcEOJn5g",
        "colab": {
          "base_uri": "https://localhost:8080/"
        },
        "outputId": "6a30f8ae-d1cb-4aed-91f0-2ff77cef54cb"
      },
      "source": [
        "from bs4 import BeautifulSoup\n",
        "sp = BeautifulSoup(html.text, \"html.parser\")  #用html.parser來拆解網頁\n",
        "sp"
      ],
      "execution_count": 3,
      "outputs": [
        {
          "output_type": "execute_result",
          "data": {
            "text/plain": [
              "﻿<!DOCTYPE doctype html>\n",
              "\n",
              "<html lang=\"zh\">\n",
              "<head>\n",
              "<meta charset=\"utf-8\"/>\n",
              "<title>我是網頁標題</title>\n",
              "</head>\n",
              "<body>\n",
              "<h1 class=\"large\">我是標題</h1>\n",
              "<div>\n",
              "<p>我是段落</p>\n",
              "<img alt=\"我是圖片\" src=\"https://www.w3.org/html/logo/downloads/HTML5_Logo_256.png\"/>\n",
              "<a href=\"http://www.e-happy.com.tw\">我是超連結</a>\n",
              "</div>\n",
              "</body>\n",
              "</html>"
            ]
          },
          "metadata": {
            "tags": []
          },
          "execution_count": 3
        }
      ]
    },
    {
      "cell_type": "code",
      "metadata": {
        "colab": {
          "base_uri": "https://localhost:8080/",
          "height": 35
        },
        "id": "TeFaB2PqK5DQ",
        "outputId": "6ef33f34-e12f-42cf-ff19-9681e5ca179a"
      },
      "source": [
        "sp.title\n",
        "sp.h1\n",
        "sp.p.text\n",
        "sp.a.text"
      ],
      "execution_count": 4,
      "outputs": [
        {
          "output_type": "execute_result",
          "data": {
            "application/vnd.google.colaboratory.intrinsic+json": {
              "type": "string"
            },
            "text/plain": [
              "'我是超連結'"
            ]
          },
          "metadata": {
            "tags": []
          },
          "execution_count": 4
        }
      ]
    },
    {
      "cell_type": "code",
      "metadata": {
        "colab": {
          "base_uri": "https://localhost:8080/",
          "height": 35
        },
        "id": "Mhsc895pNEUc",
        "outputId": "da52f3c9-5b8e-4b56-81ff-10df91f0cf97"
      },
      "source": [
        "# 結構複雜時，循序找文字\n",
        "sp.body.div.a.text\n",
        "# 尋找某標籤的屬性\n",
        "#sp.a.get('href')\n",
        "#sp.a['href']\n",
        "#sp.img.get(\"src\")\n",
        "sp.img[\"src\"]"
      ],
      "execution_count": 5,
      "outputs": [
        {
          "output_type": "execute_result",
          "data": {
            "application/vnd.google.colaboratory.intrinsic+json": {
              "type": "string"
            },
            "text/plain": [
              "'https://www.w3.org/html/logo/downloads/HTML5_Logo_256.png'"
            ]
          },
          "metadata": {
            "tags": []
          },
          "execution_count": 5
        }
      ]
    },
    {
      "cell_type": "code",
      "metadata": {
        "colab": {
          "base_uri": "https://localhost:8080/"
        },
        "id": "ZqlVFHmCOYdk",
        "outputId": "963b4c6b-f019-41c6-85fd-6b110cacd0b7"
      },
      "source": [
        "url2 = 'http://ehappy.tw/bsdemo2.htm'\n",
        "html2 = requests.get(url2)\n",
        "html2.encoding = \"utf-8\"\n",
        "print(html2.text)"
      ],
      "execution_count": 6,
      "outputs": [
        {
          "output_type": "stream",
          "text": [
            "﻿<!doctype html>\r\n",
            "<html>\r\n",
            "  <head>\r\n",
            "    <meta charset=\"UTF-8\">\r\n",
            "    <title>我是網頁標題</title>\r\n",
            "  </head>\r\n",
            "  <body>\r\n",
            "    <h1 class=\"large\">我是標題</h1>\r\n",
            "    <div>\r\n",
            "      <p id=\"p1\" class=\"large\">我是段落一</p>\r\n",
            "      <p id=\"p2\" style=\"font-size:16pt\">我是段落二</p>\r\n",
            "      <img src=\"https://www.w3.org/html/logo/downloads/HTML5_Logo_256.png\" alt=\"HTML5 logo\">\r\n",
            "      <ul>\r\n",
            "        <li class=\"odd\"><a href=\"http://www.ehappy.tw\">我是超連結1</a></li>\r\n",
            "        <li class=\"even\"><a href=\"http://www.e-happy.com.tw\">我是超連結2</a></li>\r\n",
            "      </ul>\r\n",
            "    </div>\r\n",
            "  </body>\r\n",
            "</html>\n"
          ],
          "name": "stdout"
        }
      ]
    },
    {
      "cell_type": "code",
      "metadata": {
        "colab": {
          "base_uri": "https://localhost:8080/"
        },
        "id": "lZFqiwWJO03r",
        "outputId": "b79b46ac-ffa5-486a-9221-3402292d8eca"
      },
      "source": [
        "sp2 = BeautifulSoup(html2.text,\"html.parser\")\n",
        "#sp2.p.text\n",
        "sp2.find('p',id='p2').text  # 尋找某個標籤下的內容\n",
        "sp2.find('li',class_=\"even\").a.text  # class_\n",
        "datas = sp2.find_all('p')\n",
        "for data in datas:\n",
        "  print(data.text)"
      ],
      "execution_count": 7,
      "outputs": [
        {
          "output_type": "stream",
          "text": [
            "我是段落一\n",
            "我是段落二\n"
          ],
          "name": "stdout"
        }
      ]
    },
    {
      "cell_type": "code",
      "metadata": {
        "colab": {
          "base_uri": "https://localhost:8080/",
          "height": 35
        },
        "id": "klucg3G9S6dZ",
        "outputId": "4aeebf12-82c1-4280-88c2-364c82f0fbe2"
      },
      "source": [
        "sp2.find('li',class_=\"even\").a['href']"
      ],
      "execution_count": 8,
      "outputs": [
        {
          "output_type": "execute_result",
          "data": {
            "application/vnd.google.colaboratory.intrinsic+json": {
              "type": "string"
            },
            "text/plain": [
              "'http://www.e-happy.com.tw'"
            ]
          },
          "metadata": {
            "tags": []
          },
          "execution_count": 8
        }
      ]
    },
    {
      "cell_type": "code",
      "metadata": {
        "colab": {
          "base_uri": "https://localhost:8080/"
        },
        "id": "Kx14BQUkRWdY",
        "outputId": "17c95d88-f214-41c2-e4d0-84a43fd1e235"
      },
      "source": [
        "datas = sp2.find_all('li')\n",
        "for data in datas:\n",
        "  print(data.a['href'])"
      ],
      "execution_count": 9,
      "outputs": [
        {
          "output_type": "stream",
          "text": [
            "http://www.ehappy.tw\n",
            "http://www.e-happy.com.tw\n"
          ],
          "name": "stdout"
        }
      ]
    },
    {
      "cell_type": "code",
      "metadata": {
        "colab": {
          "base_uri": "https://localhost:8080/"
        },
        "id": "VtjYUZarnhty",
        "outputId": "c22678fa-eb73-4287-ae0b-e21feeb95dfb"
      },
      "source": [
        "datas = sp2.find_all('a')\n",
        "for data in datas:\n",
        "  print(data.get('href'))"
      ],
      "execution_count": 11,
      "outputs": [
        {
          "output_type": "stream",
          "text": [
            "http://www.ehappy.tw\n",
            "http://www.e-happy.com.tw\n"
          ],
          "name": "stdout"
        }
      ]
    },
    {
      "cell_type": "markdown",
      "metadata": {
        "id": "GyEy7bgmntBO"
      },
      "source": [
        "## 專戰 : PTT美食版爬蟲"
      ]
    },
    {
      "cell_type": "code",
      "metadata": {
        "id": "DA3cNWMpn1xq"
      },
      "source": [
        "import requests\n",
        "from bs4 import BeautifulSoup\n",
        "url = \"https://www.ptt.cc/bbs/Food/index.html\"\n",
        "html = requests.get(url)\n",
        "html.encoding = 'utf-8'\n",
        "print(html.text)"
      ],
      "execution_count": null,
      "outputs": []
    },
    {
      "cell_type": "code",
      "metadata": {
        "colab": {
          "base_uri": "https://localhost:8080/"
        },
        "id": "1yqn-63KrAe4",
        "outputId": "7811a773-042d-4baa-da2c-14ece4721bc6"
      },
      "source": [
        "sp = BeautifulSoup(html.text,\"html.parser\")\n",
        "datas = sp.find_all('div',class_='r-ent')  # 用list儲存\n",
        "for data in datas:\n",
        "  print(data.find('div',class_='date').text,end=\" \")\n",
        "  print(\"https://www.ptt.cc/\"+data.a.get('href'),end=\" \")  # 直接連結ppt內的網址\n",
        "  print(data.a.text)"
      ],
      "execution_count": 22,
      "outputs": [
        {
          "output_type": "stream",
          "text": [
            " 8/16 https://www.ptt.cc//bbs/Food/M.1629110767.A.310.html [食記] 高雄 壽司郎中正店 迴轉壽司自取外帶回家\n",
            " 8/16 https://www.ptt.cc//bbs/Food/M.1629111245.A.AC0.html [請益] 山海樓的外帶套餐建議\n",
            " 8/16 https://www.ptt.cc//bbs/Food/M.1629116850.A.4B8.html [食記] 高雄 新興 17號西班牙餐酒館\n",
            " 8/16 https://www.ptt.cc//bbs/Food/M.1629119902.A.0F2.html [食記]永和樂澄小店牛肉麵專門店\n",
            " 8/16 https://www.ptt.cc//bbs/Food/M.1629120457.A.FC2.html [食記] 新店 黑角\n",
            " 8/16 https://www.ptt.cc//bbs/Food/M.1629123048.A.0EC.html [食記] [台北][中山] 家鴻燒鵝/排隊30分鐘也要吃\n",
            " 8/17 https://www.ptt.cc//bbs/Food/M.1629129744.A.8B2.html [食記] 基隆市信義區-瑞英生煎包鍋貼\n",
            " 8/17 https://www.ptt.cc//bbs/Food/M.1629133187.A.328.html [食記] 個人認為史上最雷高評價店-桃園村民食堂\n",
            " 8/17 https://www.ptt.cc//bbs/Food/M.1629133983.A.6E5.html [食記] 台北 公館 曉鹿鳴樓上海菜\n",
            " 8/17 https://www.ptt.cc//bbs/Food/M.1629142573.A.31B.html [廣宣] 苗栗後龍 堅果爸爸 低溫烘焙堅果\n",
            " 8/17 https://www.ptt.cc//bbs/Food/M.1629149436.A.FBD.html [請益] 想找吃起來味道及口感和山岡家類似的拉\n",
            " 8/17 https://www.ptt.cc//bbs/Food/M.1629159751.A.534.html [食記] 嘉義 東門圓環旁 東門小卷麵線\n",
            " 8/17 https://www.ptt.cc//bbs/Food/M.1629160601.A.148.html [食記] 桃園中壢區。斜坡粉漿蛋餅\n",
            " 8/17 https://www.ptt.cc//bbs/Food/M.1629169314.A.E0D.html [食記] 台北中山 柒串燒\n",
            " 8/17 https://www.ptt.cc//bbs/Food/M.1629177879.A.D04.html [食記] 基隆 第34夜 隱藏在巷弄 鮮美噴香海鮮義大利麵\n",
            " 8/17 https://www.ptt.cc//bbs/Food/M.1629179081.A.954.html [食記] 新北樹林 鑫記碳烤肉餅\n",
            "12/16 https://www.ptt.cc//bbs/Food/M.1355673582.A.5F7.html [公告] Food板 板規 V3.91\n",
            " 9/28 https://www.ptt.cc//bbs/Food/M.1190944426.A.E6C.html [公告] 發文請在標題加上地區及提供地址電話。^^\n",
            "10/01 https://www.ptt.cc//bbs/Food/M.1128132666.A.0FD.html [公告] 文章被刪除者請洽精華區的資源回收桶\n",
            " 6/04 https://www.ptt.cc//bbs/Food/M.1496532469.A.C36.html [公告] 新增板規22：發文禁附延伸閱讀連結\n"
          ],
          "name": "stdout"
        }
      ]
    },
    {
      "cell_type": "markdown",
      "metadata": {
        "id": "zI6Dnivhx_YL"
      },
      "source": [
        "####  尋找上一頁的連結，可在葉面上按右鍵-檢查"
      ]
    },
    {
      "cell_type": "code",
      "metadata": {
        "id": "ASdYBRLxvkCB"
      },
      "source": [
        "import requests\n",
        "from bs4 import BeautifulSoup\n",
        "for i in range(5):\n",
        "  if i == 5:\n",
        "    url = \"https://www.ptt.cc/bbs/Food/index.html\"\n",
        "  else: url = \"https://www.ptt.cc/bbs/Food/index\"+str(7002-i)+\".html\"\n",
        "  html = requests.get(url)\n",
        "  html.encoding = 'utf-8'\n",
        "  sp = BeautifulSoup(html.text,\"html.parser\")\n",
        "  datas = sp.find_all('div',class_='r-ent')  # 用list儲存\n",
        "  for data in datas:\n",
        "    print(data.find('div',class_='date').text,end=\" \")\n",
        "    print(\"https://www.ptt.cc/\"+data.a.get('href'),end=\" \")  # 直接連結ppt內的網址\n",
        "    print(data.a.text)"
      ],
      "execution_count": null,
      "outputs": []
    },
    {
      "cell_type": "code",
      "metadata": {
        "id": "sakcNUX-ye2p"
      },
      "source": [
        "# 以更新url的方式取得新頁面的資料\n",
        "# 先設定首頁的連結\n",
        "url = \"https://www.ptt.cc/bbs/Food/index.html\"\n",
        "# 設定抓取的頁數\n",
        "for i in range(5):\n",
        "  print(\"第{}頁\".format(i+1))\n",
        "  html = requests.get(url)\n",
        "  html.encoding = 'utf-8'\n",
        "  sp = BeautifulSoup(html.text,\"html.parser\")\n",
        "  datas = sp.find_all('div',class_='r-ent')  # 用list儲存\n",
        "  for data in datas:\n",
        "    print(data.find('div',class_='date').text,end=\" \")\n",
        "    print(\"https://www.ptt.cc/\"+data.a.get('href'),end=\" \")  # 直接連結ppt內的網址\n",
        "    print(data.a.text)\n",
        "  # 取得下一頁的連結\n",
        "  url = \"https://www.ptt.cc\"+sp.find_all('a',class_='btn wide')[1].get('href')  #上一頁的連結"
      ],
      "execution_count": null,
      "outputs": []
    },
    {
      "cell_type": "markdown",
      "metadata": {
        "id": "IUaIM1G-2aqk"
      },
      "source": [
        "## PTT八卦版\n",
        "\n",
        "先至開發人員工具的 application 尋找 cookies，準備好 cookies 再提出請求"
      ]
    },
    {
      "cell_type": "code",
      "metadata": {
        "id": "rgxk223R0ZO-"
      },
      "source": [
        "import requests\n",
        "from bs4 import BeautifulSoup\n",
        "\n",
        "url = \"https://www.ptt.cc/bbs/Gossiping/index.html\"\n",
        "# 設定 cookie 值\n",
        "headers = {\"cookie\":\"over18=1\"}\n",
        "# 提出請求時，同時丟出 cookie\n",
        "html = requests.get(url, headers = headers)\n",
        "html.encoding = 'utf-8'\n",
        "sp = BeautifulSoup(html.text,\"html.parser\")\n",
        "datas = sp.find_all('div',class_='r-ent')  # 用list儲存\n",
        "\n",
        "for data in datas:\n",
        "  print(data.find('div',class_='date').text,end=\" \")\n",
        "  print(\"https://www.ptt.cc/\"+data.a.get('href'),end=\" \")  # 直接連結ppt內的網址\n",
        "  print(data.a.text)"
      ],
      "execution_count": null,
      "outputs": []
    }
  ]
}